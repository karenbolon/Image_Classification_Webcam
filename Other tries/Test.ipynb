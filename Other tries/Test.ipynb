{
 "cells": [
  {
   "cell_type": "code",
   "execution_count": 2,
   "id": "7f329f2f",
   "metadata": {},
   "outputs": [],
   "source": [
    "import numpy as np\n",
    "import matplotlib.pyplot as plt\n",
    "import os\n",
    "import cv2\n",
    "from tqdm import tqdm\n",
    "import urllib.request\n",
    "\n",
    "import os\n",
    "import zipfile\n",
    "import numpy as np\n",
    "import pandas as pd\n",
    "from sklearn.metrics import roc_auc_score\n",
    "from keras import backend as K\n",
    "from keras.preprocessing.image import ImageDataGenerator,load_img\n",
    "from keras.models import Sequential\n",
    "from keras.layers import Conv2D, MaxPooling2D\n",
    "from keras.layers import Activation, Dropout, Flatten, Dense\n",
    "#from keras.optimizers import Adam"
   ]
  },
  {
   "cell_type": "code",
   "execution_count": 3,
   "id": "42322081",
   "metadata": {},
   "outputs": [
    {
     "data": {
      "text/plain": [
       "(60000, 28, 28)"
      ]
     },
     "execution_count": 3,
     "metadata": {},
     "output_type": "execute_result"
    }
   ],
   "source": [
    "X_train.shape"
   ]
  },
  {
   "cell_type": "code",
   "execution_count": 5,
   "id": "14edc6f9",
   "metadata": {},
   "outputs": [
    {
     "data": {
      "text/plain": [
       "(60000,)"
      ]
     },
     "execution_count": 5,
     "metadata": {},
     "output_type": "execute_result"
    }
   ],
   "source": [
    "y_train.shape"
   ]
  },
  {
   "cell_type": "markdown",
   "id": "e1a249ea",
   "metadata": {},
   "source": [
    "**We need to reshape our X and y data**\n",
    "\n",
    "* For X, we need to add a 4th dimension using np.expand_dims\n",
    "* For y, we need to factorize our labels using to_categorical"
   ]
  },
  {
   "cell_type": "code",
   "execution_count": 8,
   "id": "b1bc705b",
   "metadata": {},
   "outputs": [],
   "source": [
    "X_train_reshaped = np.expand_dims(X_train, axis=3)\n",
    "X_test_reshaped = np.expand_dims(X_test, axis=3)\n",
    "y_train_cats = to_categorical(y_train)\n",
    "y_test_cats = to_categorical(y_test)"
   ]
  },
  {
   "cell_type": "code",
   "execution_count": 9,
   "id": "bbf7c31b",
   "metadata": {},
   "outputs": [
    {
     "data": {
      "text/plain": [
       "(60000, 28, 28, 1)"
      ]
     },
     "execution_count": 9,
     "metadata": {},
     "output_type": "execute_result"
    }
   ],
   "source": [
    "X_train_reshaped.shape"
   ]
  },
  {
   "cell_type": "markdown",
   "id": "3675d8de",
   "metadata": {},
   "source": [
    "**Now we can build the model**\n",
    "\n",
    "* We can define the number of kernels\n",
    "* The number of strides\n",
    "* The activation function to be used"
   ]
  },
  {
   "cell_type": "code",
   "execution_count": 10,
   "id": "f081e5f8",
   "metadata": {},
   "outputs": [],
   "source": [
    "model = Sequential([\n",
    "    Conv2D(filters=40,             # aka neurons/kernels\n",
    "           kernel_size=(3,3),      # (3,3) kernel has 9+1 parameters\n",
    "           strides=(2,2),          # bigger > smaller output [default:(1,1) and use MaxPool aftwerwards]\n",
    "           activation='relu',      #ReLu great first choice. ELU for optimization\n",
    "           input_shape=(28,28,1)), #have to specify input shape in first layer <- shape of X\n",
    "    Conv2D(filters=20, kernel_size=(3,3), strides=(2,2), activation='relu'),\n",
    "    MaxPooling2D(pool_size=(3,3), strides=(2,2)),\n",
    "    Flatten(),\n",
    "    Dense(10, activation='softmax')])"
   ]
  },
  {
   "cell_type": "code",
   "execution_count": 11,
   "id": "03f4445f",
   "metadata": {},
   "outputs": [
    {
     "name": "stdout",
     "output_type": "stream",
     "text": [
      "Model: \"sequential\"\n",
      "_________________________________________________________________\n",
      " Layer (type)                Output Shape              Param #   \n",
      "=================================================================\n",
      " conv2d (Conv2D)             (None, 13, 13, 40)        400       \n",
      "                                                                 \n",
      " conv2d_1 (Conv2D)           (None, 6, 6, 20)          7220      \n",
      "                                                                 \n",
      " max_pooling2d (MaxPooling2D  (None, 2, 2, 20)         0         \n",
      " )                                                               \n",
      "                                                                 \n",
      " flatten (Flatten)           (None, 80)                0         \n",
      "                                                                 \n",
      " dense (Dense)               (None, 10)                810       \n",
      "                                                                 \n",
      "=================================================================\n",
      "Total params: 8,430\n",
      "Trainable params: 8,430\n",
      "Non-trainable params: 0\n",
      "_________________________________________________________________\n"
     ]
    }
   ],
   "source": [
    "model.summary()"
   ]
  },
  {
   "cell_type": "code",
   "execution_count": 18,
   "id": "d33a773d",
   "metadata": {},
   "outputs": [],
   "source": [
    "model.compile(optimizer='rmsprop', loss='categorical_crossentropy', metrics=['accuracy'])"
   ]
  },
  {
   "cell_type": "code",
   "execution_count": 21,
   "id": "4e42eede",
   "metadata": {},
   "outputs": [],
   "source": [
    "# Early stopping:\n",
    "early_stop = keras.callbacks.EarlyStopping(\n",
    "    monitor='val_loss', #the thing we are monitoring\n",
    "    min_delta=0.0005, #the minimum change in the quantity that we want for the model to train for another epoch\n",
    "    patience=3, #number of epochs with no improvement needed for the model to stop\n",
    "    verbose=1, #0 is silent, 1 means a message is displayed when something happens\n",
    "    mode='auto'  \n",
    ")"
   ]
  },
  {
   "cell_type": "code",
   "execution_count": 22,
   "id": "31e231a1",
   "metadata": {},
   "outputs": [
    {
     "name": "stdout",
     "output_type": "stream",
     "text": [
      "Epoch 1/30\n",
      "960/960 [==============================] - 11s 11ms/step - loss: 0.1154 - accuracy: 0.9657 - val_loss: 0.1454 - val_accuracy: 0.9592\n",
      "Epoch 2/30\n",
      "960/960 [==============================] - 10s 11ms/step - loss: 0.1058 - accuracy: 0.9680 - val_loss: 0.1544 - val_accuracy: 0.9587\n",
      "Epoch 3/30\n",
      "960/960 [==============================] - 10s 11ms/step - loss: 0.1042 - accuracy: 0.9684 - val_loss: 0.1496 - val_accuracy: 0.9614\n",
      "Epoch 4/30\n",
      "960/960 [==============================] - 10s 11ms/step - loss: 0.1055 - accuracy: 0.9684 - val_loss: 0.1564 - val_accuracy: 0.9582\n",
      "Epoch 4: early stopping\n"
     ]
    }
   ],
   "source": [
    "\n",
    "history = model.fit(X_train_reshaped,y_train_cats, epochs=30, batch_size=50, callbacks=[early_stop], validation_split=0.2)\n"
   ]
  },
  {
   "cell_type": "code",
   "execution_count": 23,
   "id": "cc63c9ac",
   "metadata": {},
   "outputs": [
    {
     "data": {
      "text/plain": [
       "[<matplotlib.lines.Line2D at 0x2914a5610>]"
      ]
     },
     "execution_count": 23,
     "metadata": {},
     "output_type": "execute_result"
    },
    {
     "data": {
      "image/png": "[encoded data removed]",
      "text/plain": [
       "<Figure size 432x288 with 1 Axes>"
      ]
     },
     "metadata": {
      "needs_background": "light"
     },
     "output_type": "display_data"
    }
   ],
   "source": [
    "plt.plot(history.history['loss'])\n",
    "plt.plot(history.history['val_loss'])"
   ]
  },
  {
   "cell_type": "code",
   "execution_count": 17,
   "id": "fe0bc078",
   "metadata": {},
   "outputs": [
    {
     "data": {
      "text/plain": [
       "<matplotlib.legend.Legend at 0x175a6f190>"
      ]
     },
     "execution_count": 17,
     "metadata": {},
     "output_type": "execute_result"
    },
    {
     "data": {
      "image/png": "[encoded data removed]",
      "text/plain": [
       "<Figure size 432x288 with 1 Axes>"
      ]
     },
     "metadata": {
      "needs_background": "light"
     },
     "output_type": "display_data"
    }
   ],
   "source": [
    "plt.plot(history.history['accuracy'])\n",
    "plt.plot(history.history['val_accuracy'])\n",
    "plt.legend(['training accuracy', 'validation accuracy'])"
   ]
  },
  {
   "cell_type": "code",
   "execution_count": 14,
   "id": "fe9c524e",
   "metadata": {},
   "outputs": [
    {
     "name": "stdout",
     "output_type": "stream",
     "text": [
      "[[9.8490695e-11 3.2020218e-08 4.5842721e-06 5.1787294e-09 2.0570960e-12\n",
      "  5.1207850e-13 2.0292526e-16 9.9999535e-01 5.8462429e-10 5.4291512e-08]\n",
      " [5.0524050e-05 7.2530533e-08 9.9962640e-01 5.4051861e-07 1.5350702e-12\n",
      "  1.9649733e-12 3.9052250e-09 3.1832470e-09 3.2155387e-04 9.5935513e-07]\n",
      " [8.0981948e-08 9.9998605e-01 1.6490066e-09 2.7083600e-12 1.1609827e-05\n",
      "  3.1174435e-11 7.7271753e-09 2.3175185e-06 2.9036160e-08 1.0897147e-10]\n",
      " [9.9992347e-01 2.4537063e-09 8.1807917e-07 2.7297184e-10 1.1056496e-08\n",
      "  2.8805403e-10 1.2724450e-06 1.1925722e-08 7.4376476e-05 2.8063665e-08]\n",
      " [9.3794816e-12 2.7617754e-12 2.5147262e-13 4.6463873e-17 1.0000000e+00\n",
      "  9.4387710e-18 1.1310857e-10 1.5132611e-14 1.9298557e-15 8.6195322e-12]\n",
      " [3.1463271e-06 9.9982220e-01 5.6218698e-07 9.9514112e-11 4.4482582e-05\n",
      "  1.1963378e-10 3.1793444e-08 1.2442918e-04 3.1106456e-06 2.0420514e-06]\n",
      " [1.4160805e-11 4.0155240e-11 3.2081501e-12 2.8485603e-14 9.9999809e-01\n",
      "  7.4167394e-11 5.8738699e-08 3.1286536e-11 1.3508701e-08 1.9134141e-06]\n",
      " [1.3344939e-04 2.1643378e-05 4.1188444e-03 6.4894097e-04 1.3517678e-01\n",
      "  1.3498622e-03 5.2864657e-06 3.1923540e-03 3.4560961e-01 5.0974333e-01]\n",
      " [5.2808509e-06 9.2812932e-13 9.7555866e-09 7.7176356e-11 2.7563984e-11\n",
      "  9.9423522e-01 9.1963635e-08 3.0606798e-10 5.5997781e-03 1.5966457e-04]\n",
      " [5.0205364e-07 5.6664322e-12 5.3360213e-06 4.1708121e-09 2.6348850e-04\n",
      "  5.3869582e-07 7.9996448e-07 7.3877476e-07 7.5937518e-05 9.9965262e-01]]\n"
     ]
    }
   ],
   "source": [
    "# prediction on new data points\n",
    "print(model.predict(X_test_reshaped[:10]))"
   ]
  },
  {
   "cell_type": "code",
   "execution_count": null,
   "id": "de6a07bf",
   "metadata": {},
   "outputs": [],
   "source": []
  }
 ],
 "metadata": {
  "hide_input": false,
  "kernelspec": {
   "display_name": "Python [conda env:deep_learning] *",
   "language": "python",
   "name": "conda-env-deep_learning-py"
  },
  "language_info": {
   "codemirror_mode": {
    "name": "ipython",
    "version": 3
   },
   "file_extension": ".py",
   "mimetype": "text/x-python",
   "name": "python",
   "nbconvert_exporter": "python",
   "pygments_lexer": "ipython3",
   "version": "3.9.7"
  },
  "toc": {
   "base_numbering": 1,
   "nav_menu": {},
   "number_sections": true,
   "sideBar": true,
   "skip_h1_title": false,
   "title_cell": "Table of Contents",
   "title_sidebar": "Contents",
   "toc_cell": false,
   "toc_position": {},
   "toc_section_display": true,
   "toc_window_display": false
  }
 },
 "nbformat": 4,
 "nbformat_minor": 5
}
